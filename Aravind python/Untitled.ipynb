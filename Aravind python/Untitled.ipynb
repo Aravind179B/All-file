{
 "cells": [
  {
   "cell_type": "code",
   "execution_count": 2,
   "id": "f74576ae",
   "metadata": {},
   "outputs": [
    {
     "name": "stdout",
     "output_type": "stream",
     "text": [
      "enter total seat capacity:20\n",
      "your journey is not confirmed\n",
      "only 1tickets books\n",
      "50% of the ticket filled.the journey comfirmed\n",
      "your journey is not confirmed\n",
      "only 2tickets books\n",
      "50% of the ticket filled.the journey comfirmed\n",
      "your journey is not confirmed\n",
      "only 3tickets books\n",
      "50% of the ticket filled.the journey comfirmed\n",
      "your journey is not confirmed\n",
      "only 4tickets books\n",
      "50% of the ticket filled.the journey comfirmed\n",
      "your journey is not confirmed\n",
      "only 5tickets books\n",
      "50% of the ticket filled.the journey comfirmed\n",
      "your journey is not confirmed\n",
      "only 6tickets books\n",
      "50% of the ticket filled.the journey comfirmed\n",
      "your journey is not confirmed\n",
      "only 7tickets books\n",
      "50% of the ticket filled.the journey comfirmed\n",
      "your journey is not confirmed\n",
      "only 8tickets books\n",
      "50% of the ticket filled.the journey comfirmed\n",
      "your journey is not confirmed\n",
      "only 9tickets books\n",
      "50% of the ticket filled.the journey comfirmed\n",
      "your journey is not confirmed\n",
      "only 10tickets books\n",
      "50% of the ticket filled.the journey comfirmed\n"
     ]
    }
   ],
   "source": [
    "TCS=int(input(\"enter total seat capacity:\"))\n",
    "counter=1\n",
    "while counter<=TCS/2:\n",
    "    print(f\"your journey is not confirmed\")\n",
    "    print(f\"only {counter}tickets books\")\n",
    "    counter+=1\n",
    "    print(\"50% of the ticket filled.the journey comfirmed\")\n",
    "         \n"
   ]
  },
  {
   "cell_type": "code",
   "execution_count": null,
   "id": "5d8ec36b",
   "metadata": {},
   "outputs": [],
   "source": [
    "limit=int(input(\"enter limit\"))\n",
    "count=0\n",
    "a=0\n",
    "b=1\n",
    "\n",
    "while count<=limit"
   ]
  },
  {
   "cell_type": "code",
   "execution_count": null,
   "id": "f3a750eb",
   "metadata": {},
   "outputs": [],
   "source": []
  }
 ],
 "metadata": {
  "kernelspec": {
   "display_name": "Python 3 (ipykernel)",
   "language": "python",
   "name": "python3"
  },
  "language_info": {
   "codemirror_mode": {
    "name": "ipython",
    "version": 3
   },
   "file_extension": ".py",
   "mimetype": "text/x-python",
   "name": "python",
   "nbconvert_exporter": "python",
   "pygments_lexer": "ipython3",
   "version": "3.9.7"
  }
 },
 "nbformat": 4,
 "nbformat_minor": 5
}
